{
 "cells": [
  {
   "cell_type": "code",
   "execution_count": 1,
   "metadata": {},
   "outputs": [],
   "source": [
    "import netCDF4 \n",
    "import pandas as pd\n",
    "import os.path\n",
    "import numpy as np\n",
    "from datetime import datetime, timedelta\n",
    "from cftime import num2date, date2num\n",
    "\n",
    "dataPath = \"./raw_data/\"\n",
    "# dataPath = \"./raw_data/Maebong_and_Moonam/\"\n",
    " \n",
    "files = os.listdir(dataPath)\n",
    "\n",
    "datasetDict = {}\n",
    "for idx,nc_type_file in enumerate(files):\n",
    "    if nc_type_file.split(\".\")[-1] == 'nc':\n",
    "        datasetDict[nc_type_file] = netCDF4.Dataset(dataPath+nc_type_file,mode=\"r\")"
   ]
  },
  {
   "cell_type": "code",
   "execution_count": 2,
   "metadata": {
    "scrolled": true
   },
   "outputs": [
    {
     "data": {
      "text/plain": [
       "dict_keys(['20201114_testdata.nc', '20201114_testdata_valid.nc', '20210731_mundo.nc', '20210731_wando.nc', '20210816_wando.nc'])"
      ]
     },
     "execution_count": 2,
     "metadata": {},
     "output_type": "execute_result"
    }
   ],
   "source": [
    "# 하단에 저장되어 있습니다.\n",
    "datasetDict.keys()"
   ]
  },
  {
   "cell_type": "code",
   "execution_count": 18,
   "metadata": {},
   "outputs": [
    {
     "data": {
      "text/plain": [
       "dict_keys(['longitude', 'latitude', 'time', 'u10', 'v10', 'mdww', 'mpww', 'mwd', 'mwp', 'wmb', 'dwi', 'swh', 'shww'])"
      ]
     },
     "execution_count": 18,
     "metadata": {},
     "output_type": "execute_result"
    }
   ],
   "source": [
    "ncfile_name = '20201114_testdata.nc'\n",
    "output_dataset = datasetDict[ncfile_name]\n",
    "\n",
    "# 하단 데이터를 갖고 있습니다.\n",
    "output_dataset.variables.keys()\n",
    "\n",
    "#mdww : mean direction of wind waves\n",
    "#mpww : mean period of wind waves\n",
    "#mwd : mean wave direction\n",
    "#mwp : mean wave period\n",
    "#wmb : Model bathymetry\n",
    "#dwi : Ocean surface stress equivalent 10m neutral wind direction\n",
    "#swh : Significant height of combined wind waves and swell\n",
    "#shww : significant height of wind waves"
   ]
  },
  {
   "cell_type": "code",
   "execution_count": 5,
   "metadata": {},
   "outputs": [
    {
     "data": {
      "text/plain": [
       "<class 'netCDF4._netCDF4.Variable'>\n",
       "int32 time(time)\n",
       "    units: hours since 1900-01-01 00:00:00.0\n",
       "    long_name: time\n",
       "    calendar: gregorian\n",
       "unlimited dimensions: \n",
       "current shape = (8784,)\n",
       "filling on, default _FillValue of -2147483647 used"
      ]
     },
     "execution_count": 5,
     "metadata": {},
     "output_type": "execute_result"
    }
   ],
   "source": [
    "output_dataset['time']"
   ]
  },
  {
   "cell_type": "code",
   "execution_count": 50,
   "metadata": {},
   "outputs": [
    {
     "data": {
      "text/plain": [
       "<class 'netCDF4._netCDF4.Variable'>\n",
       "float32 longitude(longitude)\n",
       "    units: degrees_east\n",
       "    long_name: longitude\n",
       "unlimited dimensions: \n",
       "current shape = (1,)\n",
       "filling on, default _FillValue of 9.969209968386869e+36 used"
      ]
     },
     "execution_count": 50,
     "metadata": {},
     "output_type": "execute_result"
    }
   ],
   "source": [
    "output_dataset['longitude']\n",
    "\n",
    "output_dataset['time'].get_dims()[0].size"
   ]
  },
  {
   "cell_type": "code",
   "execution_count": 21,
   "metadata": {},
   "outputs": [
    {
     "ename": "ValueError",
     "evalue": "not enough values to unpack (expected 3, got 1)",
     "output_type": "error",
     "traceback": [
      "\u001b[1;31m---------------------------------------------------------------------------\u001b[0m",
      "\u001b[1;31mValueError\u001b[0m                                Traceback (most recent call last)",
      "\u001b[1;32m<ipython-input-21-fe83552edf75>\u001b[0m in \u001b[0;36m<module>\u001b[1;34m\u001b[0m\n\u001b[0;32m      1\u001b[0m \u001b[1;31m# t2m = output_dataset.variables\u001b[0m\u001b[1;33m\u001b[0m\u001b[1;33m\u001b[0m\u001b[1;33m\u001b[0m\u001b[0m\n\u001b[0;32m      2\u001b[0m \u001b[1;33m\u001b[0m\u001b[0m\n\u001b[1;32m----> 3\u001b[1;33m \u001b[0mtime_dim\u001b[0m\u001b[1;33m,\u001b[0m \u001b[0mlat_dim\u001b[0m\u001b[1;33m,\u001b[0m \u001b[0mlon_dim\u001b[0m \u001b[1;33m=\u001b[0m \u001b[0moutput_dataset\u001b[0m\u001b[1;33m[\u001b[0m\u001b[1;34m'time'\u001b[0m\u001b[1;33m]\u001b[0m\u001b[1;33m.\u001b[0m\u001b[0mget_dims\u001b[0m\u001b[1;33m(\u001b[0m\u001b[1;33m)\u001b[0m\u001b[1;33m\u001b[0m\u001b[1;33m\u001b[0m\u001b[0m\n\u001b[0m",
      "\u001b[1;31mValueError\u001b[0m: not enough values to unpack (expected 3, got 1)"
     ]
    }
   ],
   "source": [
    "# t2m = output_dataset.variables\n",
    "time_dim, lat_dim, lon_dim = output_dataset['time'].get_dims()"
   ]
  },
  {
   "cell_type": "code",
   "execution_count": 20,
   "metadata": {},
   "outputs": [
    {
     "data": {
      "text/plain": [
       "(<class 'netCDF4._netCDF4.Dimension'>: name = 'time', size = 8760,\n",
       " <class 'netCDF4._netCDF4.Dimension'>: name = 'latitude', size = 1,\n",
       " <class 'netCDF4._netCDF4.Dimension'>: name = 'longitude', size = 1)"
      ]
     },
     "execution_count": 20,
     "metadata": {},
     "output_type": "execute_result"
    }
   ],
   "source": [
    "output_dataset['u10'].get_dims()"
   ]
  },
  {
   "cell_type": "code",
   "execution_count": 27,
   "metadata": {},
   "outputs": [],
   "source": [
    "# output_dataset.variables"
   ]
  },
  {
   "cell_type": "code",
   "execution_count": 29,
   "metadata": {},
   "outputs": [
    {
     "data": {
      "text/plain": [
       "<class 'netCDF4._netCDF4.Variable'>\n",
       "int32 time(time)\n",
       "    units: hours since 1900-01-01 00:00:00.0\n",
       "    long_name: time\n",
       "    calendar: gregorian\n",
       "unlimited dimensions: \n",
       "current shape = (8760,)\n",
       "filling on, default _FillValue of -2147483647 used"
      ]
     },
     "execution_count": 29,
     "metadata": {},
     "output_type": "execute_result"
    }
   ],
   "source": [
    "output_dataset.variables['time']"
   ]
  },
  {
   "cell_type": "code",
   "execution_count": 30,
   "metadata": {},
   "outputs": [
    {
     "data": {
      "text/plain": [
       "<class 'netCDF4._netCDF4.Variable'>\n",
       "int32 time(time)\n",
       "    units: hours since 1900-01-01 00:00:00.0\n",
       "    long_name: time\n",
       "    calendar: gregorian\n",
       "unlimited dimensions: \n",
       "current shape = (8760,)\n",
       "filling on, default _FillValue of -2147483647 used"
      ]
     },
     "execution_count": 30,
     "metadata": {},
     "output_type": "execute_result"
    }
   ],
   "source": [
    "output_dataset['time']"
   ]
  },
  {
   "cell_type": "code",
   "execution_count": 45,
   "metadata": {},
   "outputs": [
    {
     "ename": "NameError",
     "evalue": "name 't2m' is not defined",
     "output_type": "error",
     "traceback": [
      "\u001b[1;31m---------------------------------------------------------------------------\u001b[0m",
      "\u001b[1;31mNameError\u001b[0m                                 Traceback (most recent call last)",
      "\u001b[1;32m<ipython-input-45-be020312c9a3>\u001b[0m in \u001b[0;36m<module>\u001b[1;34m\u001b[0m\n\u001b[1;32m----> 1\u001b[1;33m \u001b[0mt2m\u001b[0m\u001b[1;33m\u001b[0m\u001b[1;33m\u001b[0m\u001b[0m\n\u001b[0m",
      "\u001b[1;31mNameError\u001b[0m: name 't2m' is not defined"
     ]
    }
   ],
   "source": [
    "t2m"
   ]
  },
  {
   "cell_type": "code",
   "execution_count": 54,
   "metadata": {},
   "outputs": [
    {
     "data": {
      "text/plain": [
       "<class 'netCDF4._netCDF4.Variable'>\n",
       "int32 expver(expver)\n",
       "    long_name: expver\n",
       "unlimited dimensions: \n",
       "current shape = (2,)\n",
       "filling on, default _FillValue of -2147483647 used"
      ]
     },
     "execution_count": 54,
     "metadata": {},
     "output_type": "execute_result"
    }
   ],
   "source": [
    "output_dataset.variables['expver']"
   ]
  },
  {
   "cell_type": "code",
   "execution_count": 78,
   "metadata": {},
   "outputs": [
    {
     "ename": "AttributeError",
     "evalue": "'int' object has no attribute 'name'",
     "output_type": "error",
     "traceback": [
      "\u001b[1;31m---------------------------------------------------------------------------\u001b[0m",
      "\u001b[1;31mAttributeError\u001b[0m                            Traceback (most recent call last)",
      "\u001b[1;32m<ipython-input-78-3d98fb74cf8b>\u001b[0m in \u001b[0;36m<module>\u001b[1;34m\u001b[0m\n\u001b[0;32m      1\u001b[0m \u001b[0mtime_dim\u001b[0m \u001b[1;33m=\u001b[0m \u001b[0moutput_dataset\u001b[0m\u001b[1;33m[\u001b[0m\u001b[1;34m'time'\u001b[0m\u001b[1;33m]\u001b[0m\u001b[1;33m.\u001b[0m\u001b[0mget_dims\u001b[0m\u001b[1;33m(\u001b[0m\u001b[1;33m)\u001b[0m\u001b[1;33m[\u001b[0m\u001b[1;36m0\u001b[0m\u001b[1;33m]\u001b[0m\u001b[1;33m.\u001b[0m\u001b[0msize\u001b[0m\u001b[1;33m\u001b[0m\u001b[1;33m\u001b[0m\u001b[0m\n\u001b[0;32m      2\u001b[0m \u001b[1;33m\u001b[0m\u001b[0m\n\u001b[1;32m----> 3\u001b[1;33m \u001b[0mtime_var\u001b[0m \u001b[1;33m=\u001b[0m \u001b[0moutput_dataset\u001b[0m\u001b[1;33m.\u001b[0m\u001b[0mvariables\u001b[0m\u001b[1;33m[\u001b[0m\u001b[0mtime_dim\u001b[0m\u001b[1;33m.\u001b[0m\u001b[0mname\u001b[0m\u001b[1;33m]\u001b[0m\u001b[1;33m\u001b[0m\u001b[1;33m\u001b[0m\u001b[0m\n\u001b[0m\u001b[0;32m      4\u001b[0m \u001b[0mtimes\u001b[0m \u001b[1;33m=\u001b[0m \u001b[0mnum2date\u001b[0m\u001b[1;33m(\u001b[0m\u001b[0mtime_var\u001b[0m\u001b[1;33m[\u001b[0m\u001b[1;33m:\u001b[0m\u001b[1;33m]\u001b[0m\u001b[1;33m,\u001b[0m \u001b[0mtime_var\u001b[0m\u001b[1;33m.\u001b[0m\u001b[0munits\u001b[0m\u001b[1;33m)\u001b[0m\u001b[1;33m\u001b[0m\u001b[1;33m\u001b[0m\u001b[0m\n",
      "\u001b[1;31mAttributeError\u001b[0m: 'int' object has no attribute 'name'"
     ]
    }
   ],
   "source": [
    "timedim = output_dataset['time'].get_dims()[0].size\n",
    "\n",
    "time_var = output_dataset.variables[time_dim.name]\n",
    "times = num2date(time_var[:], time_var.units)\n"
   ]
  },
  {
   "cell_type": "code",
   "execution_count": 32,
   "metadata": {},
   "outputs": [],
   "source": [
    "time_var = output_dataset.variables['time']\n",
    "times = num2date(time_var[:], time_var.units)\n"
   ]
  },
  {
   "cell_type": "code",
   "execution_count": 34,
   "metadata": {},
   "outputs": [
    {
     "data": {
      "text/plain": [
       "'2019-01-01 00:00:00'"
      ]
     },
     "execution_count": 34,
     "metadata": {},
     "output_type": "execute_result"
    }
   ],
   "source": [
    "str(times[0])"
   ]
  },
  {
   "cell_type": "code",
   "execution_count": 35,
   "metadata": {},
   "outputs": [
    {
     "data": {
      "text/plain": [
       "'hours since 1900-01-01 00:00:00.0'"
      ]
     },
     "execution_count": 35,
     "metadata": {},
     "output_type": "execute_result"
    }
   ],
   "source": [
    "time_var.units"
   ]
  },
  {
   "cell_type": "code",
   "execution_count": 36,
   "metadata": {},
   "outputs": [
    {
     "ename": "NameError",
     "evalue": "name 'meta_data' is not defined",
     "output_type": "error",
     "traceback": [
      "\u001b[1;31m---------------------------------------------------------------------------\u001b[0m",
      "\u001b[1;31mNameError\u001b[0m                                 Traceback (most recent call last)",
      "\u001b[1;32m<ipython-input-36-f460a3fbd13b>\u001b[0m in \u001b[0;36m<module>\u001b[1;34m\u001b[0m\n\u001b[1;32m----> 1\u001b[1;33m \u001b[0mmeta_data\u001b[0m\u001b[1;33m\u001b[0m\u001b[1;33m\u001b[0m\u001b[0m\n\u001b[0m",
      "\u001b[1;31mNameError\u001b[0m: name 'meta_data' is not defined"
     ]
    }
   ],
   "source": [
    "meta_data"
   ]
  },
  {
   "cell_type": "code",
   "execution_count": 4,
   "metadata": {},
   "outputs": [
    {
     "data": {
      "text/plain": [
       "dict_keys(['longitude', 'latitude', 'time', 'u100', 'v100'])"
      ]
     },
     "execution_count": 4,
     "metadata": {},
     "output_type": "execute_result"
    }
   ],
   "source": [
    "output_dataset = datasetDict['20210731_wando.nc']\n",
    "output_dataset.variables.keys()"
   ]
  },
  {
   "cell_type": "code",
   "execution_count": 38,
   "metadata": {},
   "outputs": [
    {
     "data": {
      "text/plain": [
       "dict_keys(['longitude', 'latitude', 'time', 'u10', 'v10', 'mdww', 'mpww', 'mwd', 'mwp', 'wmb', 'dwi', 'swh', 'shww'])"
      ]
     },
     "execution_count": 38,
     "metadata": {},
     "output_type": "execute_result"
    }
   ],
   "source": [
    "target_dataset = '20201114_testdata.nc'\n",
    "output_dataset = datasetDict[target_dataset]\n",
    "\n",
    "output_dataset.variables.keys()"
   ]
  },
  {
   "cell_type": "code",
   "execution_count": 40,
   "metadata": {},
   "outputs": [
    {
     "data": {
      "text/plain": [
       "[array([35.], dtype=float32), array([125.75], dtype=float32)]"
      ]
     },
     "execution_count": 40,
     "metadata": {},
     "output_type": "execute_result"
    }
   ],
   "source": [
    "outputDict = {}\n",
    "\n",
    "# output_dataset = datasetDict['20210731_mundo.nc']\n",
    "output_list = []\n",
    "meta_data = []\n",
    "column_name = []\n",
    "\n",
    "for key_value in [\"latitude\",\"longitude\"]:\n",
    "    meta_data.append(output_dataset.variables[key_value][:].data)\n",
    "\n",
    "    \n",
    "for key_value in ['time']:\n",
    "#     output_dataset['time'].get_dims()\n",
    "    dtime = netCDF4.num2date(output_dataset['time'],output_dataset['time'].units)\n",
    "    output_list.append(np.array([dtime.data]).T.reshape([8760 ,1,1]))\n",
    "    column_name.append(key_value)\n",
    "\n",
    "    \n",
    "for key_value in output_dataset.variables.keys():\n",
    "    if key_value not in [\"time\",\"latitude\",\"longitude\",'expver']:\n",
    "        output_list.append(output_dataset.variables[key_value][:].data)\n",
    "        column_name.append(key_value)\n",
    "\n",
    "meta_data"
   ]
  },
  {
   "cell_type": "code",
   "execution_count": 43,
   "metadata": {},
   "outputs": [
    {
     "data": {
      "text/plain": [
       "11"
      ]
     },
     "execution_count": 43,
     "metadata": {},
     "output_type": "execute_result"
    }
   ],
   "source": [
    "len(output_list)"
   ]
  },
  {
   "cell_type": "code",
   "execution_count": 159,
   "metadata": {},
   "outputs": [
    {
     "data": {
      "text/plain": [
       "<class 'netCDF4._netCDF4.Variable'>\n",
       "int32 time(time)\n",
       "    units: hours since 1900-01-01 00:00:00.0\n",
       "    long_name: time\n",
       "    calendar: gregorian\n",
       "unlimited dimensions: \n",
       "current shape = (8760,)\n",
       "filling on, default _FillValue of -2147483647 used"
      ]
     },
     "execution_count": 159,
     "metadata": {},
     "output_type": "execute_result"
    }
   ],
   "source": [
    "output_dataset['time']"
   ]
  },
  {
   "cell_type": "code",
   "execution_count": 44,
   "metadata": {},
   "outputs": [
    {
     "data": {
      "text/plain": [
       "8760"
      ]
     },
     "execution_count": 44,
     "metadata": {},
     "output_type": "execute_result"
    }
   ],
   "source": [
    "times = [str(i) for i in netCDF4.num2date(output_dataset['time'],output_dataset['time'].units)]\n",
    "\n",
    "times = np.array(times)\n",
    "\n",
    "len(times)"
   ]
  },
  {
   "cell_type": "code",
   "execution_count": 46,
   "metadata": {},
   "outputs": [],
   "source": [
    "times =  times.reshape(len(times),1)\n",
    "aims = []\n",
    "aims.append(times)\n",
    "\n",
    "for i in output_list[1:]:\n",
    "    aims.append(i[:,0,0].reshape(len(i[:,0,0]),1))"
   ]
  },
  {
   "cell_type": "code",
   "execution_count": 47,
   "metadata": {
    "scrolled": true
   },
   "outputs": [
    {
     "data": {
      "text/html": [
       "<div>\n",
       "<style scoped>\n",
       "    .dataframe tbody tr th:only-of-type {\n",
       "        vertical-align: middle;\n",
       "    }\n",
       "\n",
       "    .dataframe tbody tr th {\n",
       "        vertical-align: top;\n",
       "    }\n",
       "\n",
       "    .dataframe thead th {\n",
       "        text-align: right;\n",
       "    }\n",
       "</style>\n",
       "<table border=\"1\" class=\"dataframe\">\n",
       "  <thead>\n",
       "    <tr style=\"text-align: right;\">\n",
       "      <th></th>\n",
       "      <th>time</th>\n",
       "      <th>u10</th>\n",
       "      <th>v10</th>\n",
       "      <th>mdww</th>\n",
       "      <th>mpww</th>\n",
       "      <th>mwd</th>\n",
       "      <th>mwp</th>\n",
       "      <th>wmb</th>\n",
       "      <th>dwi</th>\n",
       "      <th>swh</th>\n",
       "      <th>shww</th>\n",
       "    </tr>\n",
       "  </thead>\n",
       "  <tbody>\n",
       "    <tr>\n",
       "      <th>0</th>\n",
       "      <td>2019-01-01 00:00:00</td>\n",
       "      <td>5.112340373689354</td>\n",
       "      <td>-6.201502070743386</td>\n",
       "      <td>321.44740323015253</td>\n",
       "      <td>4.3147192580244464</td>\n",
       "      <td>323.6714227484878</td>\n",
       "      <td>4.57838306968649</td>\n",
       "      <td>32.0</td>\n",
       "      <td>318.71212033988354</td>\n",
       "      <td>1.1893830037922126</td>\n",
       "      <td>1.0545758876672768</td>\n",
       "    </tr>\n",
       "    <tr>\n",
       "      <th>1</th>\n",
       "      <td>2019-01-01 01:00:00</td>\n",
       "      <td>5.390213602249491</td>\n",
       "      <td>-6.026636362988979</td>\n",
       "      <td>319.04699799454295</td>\n",
       "      <td>4.398470999212869</td>\n",
       "      <td>321.3149844651281</td>\n",
       "      <td>4.6139138003757605</td>\n",
       "      <td>32.0</td>\n",
       "      <td>315.6745056612739</td>\n",
       "      <td>1.184784548831765</td>\n",
       "      <td>1.0770551561809025</td>\n",
       "    </tr>\n",
       "    <tr>\n",
       "      <th>2</th>\n",
       "      <td>2019-01-01 02:00:00</td>\n",
       "      <td>6.5670571993062845</td>\n",
       "      <td>-6.441110445382643</td>\n",
       "      <td>316.8003944673935</td>\n",
       "      <td>4.56278393906825</td>\n",
       "      <td>318.6509458464113</td>\n",
       "      <td>4.626944630701899</td>\n",
       "      <td>32.0</td>\n",
       "      <td>313.2850619267436</td>\n",
       "      <td>1.2526259522605914</td>\n",
       "      <td>1.1995442315510656</td>\n",
       "    </tr>\n",
       "    <tr>\n",
       "      <th>3</th>\n",
       "      <td>2019-01-01 03:00:00</td>\n",
       "      <td>7.125460188248357</td>\n",
       "      <td>-6.7835810010539035</td>\n",
       "      <td>315.613924144987</td>\n",
       "      <td>4.6608931216032605</td>\n",
       "      <td>316.60210789840846</td>\n",
       "      <td>4.687668300021703</td>\n",
       "      <td>32.0</td>\n",
       "      <td>312.977455377011</td>\n",
       "      <td>1.3696310840319814</td>\n",
       "      <td>1.3304056875410994</td>\n",
       "    </tr>\n",
       "    <tr>\n",
       "      <th>4</th>\n",
       "      <td>2019-01-01 04:00:00</td>\n",
       "      <td>7.424054365018523</td>\n",
       "      <td>-7.051022671737114</td>\n",
       "      <td>315.15251901960664</td>\n",
       "      <td>4.78107022324506</td>\n",
       "      <td>315.67930689233754</td>\n",
       "      <td>4.803034584509113</td>\n",
       "      <td>32.0</td>\n",
       "      <td>313.3784424864839</td>\n",
       "      <td>1.4798236899360417</td>\n",
       "      <td>1.4424579596727938</td>\n",
       "    </tr>\n",
       "  </tbody>\n",
       "</table>\n",
       "</div>"
      ],
      "text/plain": [
       "                  time                 u10                  v10  \\\n",
       "0  2019-01-01 00:00:00   5.112340373689354   -6.201502070743386   \n",
       "1  2019-01-01 01:00:00   5.390213602249491   -6.026636362988979   \n",
       "2  2019-01-01 02:00:00  6.5670571993062845   -6.441110445382643   \n",
       "3  2019-01-01 03:00:00   7.125460188248357  -6.7835810010539035   \n",
       "4  2019-01-01 04:00:00   7.424054365018523   -7.051022671737114   \n",
       "\n",
       "                 mdww                mpww                 mwd  \\\n",
       "0  321.44740323015253  4.3147192580244464   323.6714227484878   \n",
       "1  319.04699799454295   4.398470999212869   321.3149844651281   \n",
       "2   316.8003944673935    4.56278393906825   318.6509458464113   \n",
       "3    315.613924144987  4.6608931216032605  316.60210789840846   \n",
       "4  315.15251901960664    4.78107022324506  315.67930689233754   \n",
       "\n",
       "                  mwp   wmb                 dwi                 swh  \\\n",
       "0    4.57838306968649  32.0  318.71212033988354  1.1893830037922126   \n",
       "1  4.6139138003757605  32.0   315.6745056612739   1.184784548831765   \n",
       "2   4.626944630701899  32.0   313.2850619267436  1.2526259522605914   \n",
       "3   4.687668300021703  32.0    312.977455377011  1.3696310840319814   \n",
       "4   4.803034584509113  32.0   313.3784424864839  1.4798236899360417   \n",
       "\n",
       "                 shww  \n",
       "0  1.0545758876672768  \n",
       "1  1.0770551561809025  \n",
       "2  1.1995442315510656  \n",
       "3  1.3304056875410994  \n",
       "4  1.4424579596727938  "
      ]
     },
     "execution_count": 47,
     "metadata": {},
     "output_type": "execute_result"
    }
   ],
   "source": [
    "output_df = pd.DataFrame(np.concatenate(aims,axis=1), columns =column_name)\n",
    "\n",
    "# output_df = pd.DataFrame(np.concatenate(output_list,axis=1).reshape(17520,5),columns=column_name)\n",
    "output_df.head()"
   ]
  },
  {
   "cell_type": "code",
   "execution_count": 50,
   "metadata": {},
   "outputs": [],
   "source": [
    "from metpy.calc import wind_speed, wind_direction\n",
    "from metpy.units import units\n",
    "\n",
    "def recordFunction(record):\n",
    "    u = float(record['u10']) * units.meter / units.second\n",
    "    v = float(record['v10']) * units.meter / units.second\n",
    "    return [wind_direction(u,v), wind_speed(u,v)]"
   ]
  },
  {
   "cell_type": "code",
   "execution_count": 51,
   "metadata": {},
   "outputs": [
    {
     "data": {
      "text/plain": [
       "['time',\n",
       " 'u10',\n",
       " 'v10',\n",
       " 'mdww',\n",
       " 'mpww',\n",
       " 'mwd',\n",
       " 'mwp',\n",
       " 'wmb',\n",
       " 'dwi',\n",
       " 'swh',\n",
       " 'shww',\n",
       " 'wind_direction',\n",
       " 'wind_speed']"
      ]
     },
     "execution_count": 51,
     "metadata": {},
     "output_type": "execute_result"
    }
   ],
   "source": [
    "listofTwo = output_df.apply(recordFunction, axis=1)\n",
    "\n",
    "# type(listofTwo.tolist()[0][0])\n",
    "\n",
    "# listofTwo.tolist()[0][0].to_compact\n",
    "\n",
    "a = pd.DataFrame(listofTwo.tolist(),columns =['direction','wind_speed'])\n",
    "\n",
    "column_name.append('wind_direction')\n",
    "column_name.append('wind_speed')\n",
    "column_name"
   ]
  },
  {
   "cell_type": "code",
   "execution_count": 52,
   "metadata": {},
   "outputs": [],
   "source": [
    "output_df1 = pd.DataFrame(np.concatenate([output_df,a],axis=1),columns = column_name)\n",
    "\n",
    "file_name = str(meta_data[0][0])+\"(lat) \"+str(meta_data[1][0])+\"(lon)1 located data\"+'.csv'\n",
    "output_df1.to_csv(file_name,index=True, header=True)"
   ]
  },
  {
   "cell_type": "code",
   "execution_count": 53,
   "metadata": {},
   "outputs": [
    {
     "data": {
      "text/plain": [
       "'35.0(lat) 125.75(lon)1 located data.csv'"
      ]
     },
     "execution_count": 53,
     "metadata": {},
     "output_type": "execute_result"
    }
   ],
   "source": [
    "file_name"
   ]
  },
  {
   "cell_type": "code",
   "execution_count": 105,
   "metadata": {},
   "outputs": [],
   "source": [
    " a = pd.DataFrame(listofTwo.tolist(),columns =['direction','wind_speed'])"
   ]
  },
  {
   "cell_type": "code",
   "execution_count": 35,
   "metadata": {},
   "outputs": [],
   "source": [
    "file_name = str(meta_data[0][0])+\"(lat) \"+str(meta_data[1][0])+\"(lon)1 located data\"+'.csv'\n",
    "# output_df.to_csv(file_name,index=True, header=True)"
   ]
  },
  {
   "cell_type": "code",
   "execution_count": 36,
   "metadata": {},
   "outputs": [],
   "source": [
    "output_df1.to_csv(file_name,index=True, header=True)"
   ]
  },
  {
   "cell_type": "code",
   "execution_count": 128,
   "metadata": {},
   "outputs": [],
   "source": [
    "pd.concat([output_df,a],axis=1).to_csv(file_name,index=True, header=True)"
   ]
  },
  {
   "cell_type": "code",
   "execution_count": 61,
   "metadata": {},
   "outputs": [
    {
     "data": {
      "text/plain": [
       "(17520, 5)"
      ]
     },
     "execution_count": 61,
     "metadata": {},
     "output_type": "execute_result"
    }
   ],
   "source": [
    "output_df.shape"
   ]
  },
  {
   "cell_type": "code",
   "execution_count": 42,
   "metadata": {
    "scrolled": true
   },
   "outputs": [
    {
     "name": "stderr",
     "output_type": "stream",
     "text": [
      "C:\\Users\\pc\\.conda\\envs\\era05_setup_37\\lib\\site-packages\\ipykernel_launcher.py:1: DeprecationWarning: tostring() is deprecated. Use tobytes() instead.\n",
      "  \"\"\"Entry point for launching an IPython kernel.\n"
     ]
    },
    {
     "data": {
      "text/plain": [
       "'hours since 1900-01-01 00:00:00.0'"
      ]
     },
     "execution_count": 42,
     "metadata": {},
     "output_type": "execute_result"
    }
   ],
   "source": [
    "output_dataset['time'].units"
   ]
  },
  {
   "cell_type": "code",
   "execution_count": 79,
   "metadata": {},
   "outputs": [
    {
     "data": {
      "text/plain": [
       "36.44"
      ]
     },
     "execution_count": 79,
     "metadata": {},
     "output_type": "execute_result"
    }
   ],
   "source": [
    "meta_data[0][0]"
   ]
  },
  {
   "cell_type": "code",
   "execution_count": 80,
   "metadata": {},
   "outputs": [
    {
     "data": {
      "text/plain": [
       "128.42"
      ]
     },
     "execution_count": 80,
     "metadata": {},
     "output_type": "execute_result"
    }
   ],
   "source": [
    "meta_data[1][0]"
   ]
  },
  {
   "cell_type": "code",
   "execution_count": null,
   "metadata": {},
   "outputs": [],
   "source": []
  }
 ],
 "metadata": {
  "kernelspec": {
   "display_name": "Python 3",
   "language": "python",
   "name": "python3"
  },
  "language_info": {
   "codemirror_mode": {
    "name": "ipython",
    "version": 3
   },
   "file_extension": ".py",
   "mimetype": "text/x-python",
   "name": "python",
   "nbconvert_exporter": "python",
   "pygments_lexer": "ipython3",
   "version": "3.9.5"
  }
 },
 "nbformat": 4,
 "nbformat_minor": 4
}

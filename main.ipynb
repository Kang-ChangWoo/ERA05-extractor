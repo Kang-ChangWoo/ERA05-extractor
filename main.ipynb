{
 "cells": [
  {
   "cell_type": "code",
   "execution_count": 1,
   "metadata": {},
   "outputs": [],
   "source": [
    "# import python built-in libraries\n",
    "import os.path\n",
    "\n",
    "# import external libraries\n",
    "import netCDF4 \n",
    "import pandas as pd\n",
    "import numpy as np\n",
    "import yaml\n",
    "\n",
    "from datetime import datetime, timedelta\n",
    "from cftime import num2date, date2num\n",
    "\n",
    "# import user libraries\n",
    "from utils import description_module\n",
    "from utils import conversion_module\n",
    "\n",
    "# load configuration file\n",
    "with open('config.yml') as f:\n",
    "    cfg = yaml.load(f, Loader = yaml.FullLoader)"
   ]
  },
  {
   "cell_type": "code",
   "execution_count": 2,
   "metadata": {},
   "outputs": [],
   "source": [
    "\n",
    "\n",
    "dataPath = \"./data/\"\n",
    "# dataPath = \"./raw_data/Maebong_and_Moonam/\"\n",
    " \n",
    "files = os.listdir(dataPath)\n",
    "\n",
    "datasetDict = {}\n",
    "for idx,nc_type_file in enumerate(files):\n",
    "    if nc_type_file.split(\".\")[-1] == 'nc':\n",
    "        datasetDict[nc_type_file] = netCDF4.Dataset(dataPath+nc_type_file,mode=\"r\")"
   ]
  },
  {
   "cell_type": "code",
   "execution_count": 3,
   "metadata": {},
   "outputs": [
    {
     "data": {
      "text/plain": [
       "dict_keys(['longitude', 'latitude', 'time', 'u100', 'v100'])"
      ]
     },
     "execution_count": 3,
     "metadata": {},
     "output_type": "execute_result"
    }
   ],
   "source": [
    "ncfile_name = '20210731_test_example_2.nc'\n",
    "output_dataset = datasetDict[ncfile_name]\n",
    "\n",
    "# 하단 데이터를 갖고 있습니다.\n",
    "output_dataset.variables.keys()\n",
    "\n",
    "#mdww : mean direction of wind waves\n",
    "#mpww : mean period of wind waves\n",
    "#mwd : mean wave direction\n",
    "#mwp : mean wave period\n",
    "#wmb : Model bathymetry\n",
    "#dwi : Ocean surface stress equivalent 10m neutral wind direction\n",
    "#swh : Significant height of combined wind waves and swell\n",
    "#shww : significant height of wind waves"
   ]
  },
  {
   "cell_type": "code",
   "execution_count": null,
   "metadata": {},
   "outputs": [],
   "source": []
  },
  {
   "cell_type": "code",
   "execution_count": 4,
   "metadata": {},
   "outputs": [],
   "source": [
    "# 차원이 다르게 받아들여지는 경우는 해결해야 함...;"
   ]
  },
  {
   "cell_type": "code",
   "execution_count": 5,
   "metadata": {},
   "outputs": [],
   "source": [
    "a, b = conversion_module.netCDF4_to_CSV(output_dataset)"
   ]
  },
  {
   "cell_type": "code",
   "execution_count": 6,
   "metadata": {},
   "outputs": [
    {
     "data": {
      "text/html": [
       "<div>\n",
       "<style scoped>\n",
       "    .dataframe tbody tr th:only-of-type {\n",
       "        vertical-align: middle;\n",
       "    }\n",
       "\n",
       "    .dataframe tbody tr th {\n",
       "        vertical-align: top;\n",
       "    }\n",
       "\n",
       "    .dataframe thead th {\n",
       "        text-align: right;\n",
       "    }\n",
       "</style>\n",
       "<table border=\"1\" class=\"dataframe\">\n",
       "  <thead>\n",
       "    <tr style=\"text-align: right;\">\n",
       "      <th></th>\n",
       "      <th>latitude</th>\n",
       "      <th>longitude</th>\n",
       "      <th>time</th>\n",
       "      <th>u100</th>\n",
       "      <th>v100</th>\n",
       "    </tr>\n",
       "  </thead>\n",
       "  <tbody>\n",
       "    <tr>\n",
       "      <th>0</th>\n",
       "      <td>34.24</td>\n",
       "      <td>127.09</td>\n",
       "      <td>2018-01-01 00:00:00</td>\n",
       "      <td>1.1992001371319785</td>\n",
       "      <td>-3.387745165685549</td>\n",
       "    </tr>\n",
       "    <tr>\n",
       "      <th>1</th>\n",
       "      <td>34.24</td>\n",
       "      <td>127.09</td>\n",
       "      <td>2018-01-01 01:00:00</td>\n",
       "      <td>1.5731244834276006</td>\n",
       "      <td>-3.3271057486084805</td>\n",
       "    </tr>\n",
       "    <tr>\n",
       "      <th>2</th>\n",
       "      <td>34.24</td>\n",
       "      <td>127.09</td>\n",
       "      <td>2018-01-01 02:00:00</td>\n",
       "      <td>1.1999525000017885</td>\n",
       "      <td>-4.063085522995914</td>\n",
       "    </tr>\n",
       "    <tr>\n",
       "      <th>3</th>\n",
       "      <td>34.24</td>\n",
       "      <td>127.09</td>\n",
       "      <td>2018-01-01 03:00:00</td>\n",
       "      <td>1.0532417403888177</td>\n",
       "      <td>-4.451842333846161</td>\n",
       "    </tr>\n",
       "    <tr>\n",
       "      <th>4</th>\n",
       "      <td>34.24</td>\n",
       "      <td>127.09</td>\n",
       "      <td>2018-01-01 04:00:00</td>\n",
       "      <td>1.3669770570996316</td>\n",
       "      <td>-4.10877275504028</td>\n",
       "    </tr>\n",
       "    <tr>\n",
       "      <th>...</th>\n",
       "      <td>...</td>\n",
       "      <td>...</td>\n",
       "      <td>...</td>\n",
       "      <td>...</td>\n",
       "      <td>...</td>\n",
       "    </tr>\n",
       "    <tr>\n",
       "      <th>26299</th>\n",
       "      <td>34.24</td>\n",
       "      <td>127.09</td>\n",
       "      <td>2020-12-31 19:00:00</td>\n",
       "      <td>2.157710433270052</td>\n",
       "      <td>-5.925463236513548</td>\n",
       "    </tr>\n",
       "    <tr>\n",
       "      <th>26300</th>\n",
       "      <td>34.24</td>\n",
       "      <td>127.09</td>\n",
       "      <td>2020-12-31 20:00:00</td>\n",
       "      <td>1.8891168887478451</td>\n",
       "      <td>-4.996766410593515</td>\n",
       "    </tr>\n",
       "    <tr>\n",
       "      <th>26301</th>\n",
       "      <td>34.24</td>\n",
       "      <td>127.09</td>\n",
       "      <td>2020-12-31 21:00:00</td>\n",
       "      <td>1.5309921627182348</td>\n",
       "      <td>-3.8313266549890357</td>\n",
       "    </tr>\n",
       "    <tr>\n",
       "      <th>26302</th>\n",
       "      <td>34.24</td>\n",
       "      <td>127.09</td>\n",
       "      <td>2020-12-31 22:00:00</td>\n",
       "      <td>1.78378608697443</td>\n",
       "      <td>-3.0945162036553415</td>\n",
       "    </tr>\n",
       "    <tr>\n",
       "      <th>26303</th>\n",
       "      <td>34.24</td>\n",
       "      <td>127.09</td>\n",
       "      <td>2020-12-31 23:00:00</td>\n",
       "      <td>2.2923833869660615</td>\n",
       "      <td>-2.70243668502005</td>\n",
       "    </tr>\n",
       "  </tbody>\n",
       "</table>\n",
       "<p>26304 rows × 5 columns</p>\n",
       "</div>"
      ],
      "text/plain": [
       "      latitude longitude                 time                u100  \\\n",
       "0        34.24    127.09  2018-01-01 00:00:00  1.1992001371319785   \n",
       "1        34.24    127.09  2018-01-01 01:00:00  1.5731244834276006   \n",
       "2        34.24    127.09  2018-01-01 02:00:00  1.1999525000017885   \n",
       "3        34.24    127.09  2018-01-01 03:00:00  1.0532417403888177   \n",
       "4        34.24    127.09  2018-01-01 04:00:00  1.3669770570996316   \n",
       "...        ...       ...                  ...                 ...   \n",
       "26299    34.24    127.09  2020-12-31 19:00:00   2.157710433270052   \n",
       "26300    34.24    127.09  2020-12-31 20:00:00  1.8891168887478451   \n",
       "26301    34.24    127.09  2020-12-31 21:00:00  1.5309921627182348   \n",
       "26302    34.24    127.09  2020-12-31 22:00:00    1.78378608697443   \n",
       "26303    34.24    127.09  2020-12-31 23:00:00  2.2923833869660615   \n",
       "\n",
       "                      v100  \n",
       "0       -3.387745165685549  \n",
       "1      -3.3271057486084805  \n",
       "2       -4.063085522995914  \n",
       "3       -4.451842333846161  \n",
       "4        -4.10877275504028  \n",
       "...                    ...  \n",
       "26299   -5.925463236513548  \n",
       "26300   -4.996766410593515  \n",
       "26301  -3.8313266549890357  \n",
       "26302  -3.0945162036553415  \n",
       "26303    -2.70243668502005  \n",
       "\n",
       "[26304 rows x 5 columns]"
      ]
     },
     "execution_count": 6,
     "metadata": {},
     "output_type": "execute_result"
    }
   ],
   "source": [
    "conversion_module.dict_to_dataframe(a, b)"
   ]
  },
  {
   "cell_type": "code",
   "execution_count": null,
   "metadata": {},
   "outputs": [],
   "source": [
    "a['time'].shape"
   ]
  },
  {
   "cell_type": "code",
   "execution_count": null,
   "metadata": {},
   "outputs": [],
   "source": []
  },
  {
   "cell_type": "code",
   "execution_count": null,
   "metadata": {},
   "outputs": [],
   "source": [
    "val_  = b['latitude'][0]"
   ]
  },
  {
   "cell_type": "code",
   "execution_count": null,
   "metadata": {},
   "outputs": [],
   "source": [
    "list(a.items())[1]"
   ]
  },
  {
   "cell_type": "code",
   "execution_count": null,
   "metadata": {},
   "outputs": [],
   "source": [
    "a['time'].shape"
   ]
  },
  {
   "cell_type": "code",
   "execution_count": null,
   "metadata": {},
   "outputs": [],
   "source": [
    "len(list(a.items())[0][1])"
   ]
  },
  {
   "cell_type": "code",
   "execution_count": null,
   "metadata": {},
   "outputs": [],
   "source": [
    "len(list(a.items())[0,1])"
   ]
  },
  {
   "cell_type": "code",
   "execution_count": null,
   "metadata": {
    "scrolled": true
   },
   "outputs": [],
   "source": [
    "len(a)"
   ]
  },
  {
   "cell_type": "code",
   "execution_count": null,
   "metadata": {},
   "outputs": [],
   "source": [
    "a['v100'][0]"
   ]
  },
  {
   "cell_type": "code",
   "execution_count": null,
   "metadata": {},
   "outputs": [],
   "source": [
    "\n",
    "output_df = pd.DataFrame(np.concatenate((a['time'], a['v100']),axis=1))\n",
    "output_df"
   ]
  },
  {
   "cell_type": "code",
   "execution_count": null,
   "metadata": {},
   "outputs": [],
   "source": [
    "a['v100'].reshape(26304,-1).tolist()"
   ]
  },
  {
   "cell_type": "code",
   "execution_count": null,
   "metadata": {},
   "outputs": [],
   "source": [
    "a.keys()"
   ]
  },
  {
   "cell_type": "code",
   "execution_count": null,
   "metadata": {},
   "outputs": [],
   "source": [
    "a"
   ]
  },
  {
   "cell_type": "code",
   "execution_count": null,
   "metadata": {},
   "outputs": [],
   "source": [
    "# 하단에 저장되어 있습니다.\n",
    "datasetDict.keys()"
   ]
  },
  {
   "cell_type": "code",
   "execution_count": null,
   "metadata": {},
   "outputs": [],
   "source": [
    "masked_array_dtime = netCDF4.num2date(output_dataset['time'],output_dataset['time'].units)"
   ]
  },
  {
   "cell_type": "code",
   "execution_count": null,
   "metadata": {},
   "outputs": [],
   "source": [
    "len(masked_array_dtime)"
   ]
  },
  {
   "cell_type": "code",
   "execution_count": null,
   "metadata": {},
   "outputs": [],
   "source": [
    "len(output_dataset['time'])"
   ]
  },
  {
   "cell_type": "code",
   "execution_count": null,
   "metadata": {
    "scrolled": true
   },
   "outputs": [],
   "source": [
    "output_dataset['time'].get_dims()"
   ]
  },
  {
   "cell_type": "code",
   "execution_count": null,
   "metadata": {},
   "outputs": [],
   "source": [
    "a = list(output_dataset['time'].get_dims()[0])"
   ]
  },
  {
   "cell_type": "code",
   "execution_count": null,
   "metadata": {},
   "outputs": [],
   "source": [
    "a"
   ]
  },
  {
   "cell_type": "code",
   "execution_count": null,
   "metadata": {},
   "outputs": [],
   "source": [
    "output_dataset['time']"
   ]
  },
  {
   "cell_type": "code",
   "execution_count": null,
   "metadata": {},
   "outputs": [],
   "source": [
    "output_dataset"
   ]
  },
  {
   "cell_type": "code",
   "execution_count": null,
   "metadata": {
    "scrolled": true
   },
   "outputs": [],
   "source": [
    "output_dataset['time']"
   ]
  },
  {
   "cell_type": "code",
   "execution_count": null,
   "metadata": {},
   "outputs": [],
   "source": [
    "output_dataset['longitude']\n",
    "\n",
    "output_dataset['time'].get_dims()[0].size"
   ]
  },
  {
   "cell_type": "code",
   "execution_count": null,
   "metadata": {},
   "outputs": [],
   "source": [
    "# t2m = output_dataset.variables\n",
    "time_dim, lat_dim, lon_dim = output_dataset['time'].get_dims()"
   ]
  },
  {
   "cell_type": "code",
   "execution_count": null,
   "metadata": {},
   "outputs": [],
   "source": [
    "output_dataset['u10'].get_dims()"
   ]
  },
  {
   "cell_type": "code",
   "execution_count": null,
   "metadata": {},
   "outputs": [],
   "source": [
    "# output_dataset.variables"
   ]
  },
  {
   "cell_type": "code",
   "execution_count": null,
   "metadata": {},
   "outputs": [],
   "source": [
    "output_dataset.variables['time']"
   ]
  },
  {
   "cell_type": "code",
   "execution_count": null,
   "metadata": {},
   "outputs": [],
   "source": [
    "output_dataset['time']"
   ]
  },
  {
   "cell_type": "code",
   "execution_count": null,
   "metadata": {},
   "outputs": [],
   "source": [
    "t2m"
   ]
  },
  {
   "cell_type": "code",
   "execution_count": null,
   "metadata": {},
   "outputs": [],
   "source": [
    "output_dataset.variables['expver']"
   ]
  },
  {
   "cell_type": "code",
   "execution_count": null,
   "metadata": {},
   "outputs": [],
   "source": [
    "timedim = output_dataset['time'].get_dims()[0].size\n",
    "\n",
    "time_var = output_dataset.variables[time_dim.name]\n",
    "times = num2date(time_var[:], time_var.units)\n"
   ]
  },
  {
   "cell_type": "code",
   "execution_count": null,
   "metadata": {},
   "outputs": [],
   "source": [
    "time_var = output_dataset.variables['time']\n",
    "times = num2date(time_var[:], time_var.units)\n"
   ]
  },
  {
   "cell_type": "code",
   "execution_count": null,
   "metadata": {},
   "outputs": [],
   "source": [
    "str(times[0])"
   ]
  },
  {
   "cell_type": "code",
   "execution_count": null,
   "metadata": {},
   "outputs": [],
   "source": [
    "time_var.units"
   ]
  },
  {
   "cell_type": "code",
   "execution_count": null,
   "metadata": {},
   "outputs": [],
   "source": [
    "meta_data"
   ]
  },
  {
   "cell_type": "code",
   "execution_count": null,
   "metadata": {},
   "outputs": [],
   "source": [
    "output_dataset = datasetDict['20210731_wando.nc']\n",
    "output_dataset.variables.keys()"
   ]
  },
  {
   "cell_type": "code",
   "execution_count": null,
   "metadata": {},
   "outputs": [],
   "source": [
    "target_dataset = '20201114_testdata.nc'\n",
    "output_dataset = datasetDict[target_dataset]\n",
    "\n",
    "output_dataset.variables.keys()"
   ]
  },
  {
   "cell_type": "code",
   "execution_count": null,
   "metadata": {},
   "outputs": [],
   "source": []
  },
  {
   "cell_type": "code",
   "execution_count": null,
   "metadata": {},
   "outputs": [],
   "source": [
    "len(output_list)"
   ]
  },
  {
   "cell_type": "code",
   "execution_count": null,
   "metadata": {},
   "outputs": [],
   "source": [
    "output_dataset['time']"
   ]
  },
  {
   "cell_type": "code",
   "execution_count": null,
   "metadata": {},
   "outputs": [],
   "source": [
    "times = [str(i) for i in netCDF4.num2date(output_dataset['time'],output_dataset['time'].units)]\n",
    "\n",
    "times = np.array(times)\n",
    "\n",
    "len(times)"
   ]
  },
  {
   "cell_type": "code",
   "execution_count": null,
   "metadata": {},
   "outputs": [],
   "source": [
    "times"
   ]
  },
  {
   "cell_type": "code",
   "execution_count": null,
   "metadata": {},
   "outputs": [],
   "source": [
    "times =  times.reshape(len(times),1)\n",
    "aims = []\n",
    "aims.append(times)\n",
    "\n",
    "for i in output_list[1:]:\n",
    "    aims.append(i[:,0,0].reshape(len(i[:,0,0]),1))"
   ]
  },
  {
   "cell_type": "code",
   "execution_count": null,
   "metadata": {
    "scrolled": true
   },
   "outputs": [],
   "source": [
    "output_df = pd.DataFrame(np.concatenate(aims,axis=1), columns =column_name)\n",
    "\n",
    "# output_df = pd.DataFrame(np.concatenate(output_list,axis=1).reshape(17520,5),columns=column_name)\n",
    "output_df.head()"
   ]
  },
  {
   "cell_type": "code",
   "execution_count": null,
   "metadata": {},
   "outputs": [],
   "source": [
    "from metpy.calc import wind_speed, wind_direction\n",
    "from metpy.units import units\n",
    "\n",
    "def recordFunction(record):\n",
    "    u = float(record['u10']) * units.meter / units.second\n",
    "    v = float(record['v10']) * units.meter / units.second\n",
    "    return [wind_direction(u,v), wind_speed(u,v)]"
   ]
  },
  {
   "cell_type": "code",
   "execution_count": null,
   "metadata": {},
   "outputs": [],
   "source": [
    "listofTwo = output_df.apply(recordFunction, axis=1)\n",
    "\n",
    "# type(listofTwo.tolist()[0][0])\n",
    "\n",
    "# listofTwo.tolist()[0][0].to_compact\n",
    "\n",
    "a = pd.DataFrame(listofTwo.tolist(),columns =['direction','wind_speed'])\n",
    "\n",
    "column_name.append('wind_direction')\n",
    "column_name.append('wind_speed')\n",
    "column_name"
   ]
  },
  {
   "cell_type": "code",
   "execution_count": null,
   "metadata": {},
   "outputs": [],
   "source": [
    "output_df1 = pd.DataFrame(np.concatenate([output_df,a],axis=1),columns = column_name)\n",
    "\n",
    "file_name = str(meta_data[0][0])+\"(lat) \"+str(meta_data[1][0])+\"(lon)1 located data\"+'.csv'\n",
    "output_df1.to_csv(file_name,index=True, header=True)"
   ]
  },
  {
   "cell_type": "code",
   "execution_count": null,
   "metadata": {},
   "outputs": [],
   "source": [
    "file_name"
   ]
  },
  {
   "cell_type": "code",
   "execution_count": null,
   "metadata": {},
   "outputs": [],
   "source": [
    " a = pd.DataFrame(listofTwo.tolist(),columns =['direction','wind_speed'])"
   ]
  },
  {
   "cell_type": "code",
   "execution_count": null,
   "metadata": {},
   "outputs": [],
   "source": [
    "file_name = str(meta_data[0][0])+\"(lat) \"+str(meta_data[1][0])+\"(lon)1 located data\"+'.csv'\n",
    "# output_df.to_csv(file_name,index=True, header=True)"
   ]
  },
  {
   "cell_type": "code",
   "execution_count": null,
   "metadata": {},
   "outputs": [],
   "source": [
    "output_df1.to_csv(file_name,index=True, header=True)"
   ]
  },
  {
   "cell_type": "code",
   "execution_count": null,
   "metadata": {},
   "outputs": [],
   "source": [
    "pd.concat([output_df,a],axis=1).to_csv(file_name,index=True, header=True)"
   ]
  },
  {
   "cell_type": "code",
   "execution_count": null,
   "metadata": {},
   "outputs": [],
   "source": [
    "output_df.shape"
   ]
  },
  {
   "cell_type": "code",
   "execution_count": null,
   "metadata": {
    "scrolled": true
   },
   "outputs": [],
   "source": [
    "output_dataset['time'].units"
   ]
  },
  {
   "cell_type": "code",
   "execution_count": null,
   "metadata": {},
   "outputs": [],
   "source": [
    "meta_data[0][0]"
   ]
  },
  {
   "cell_type": "code",
   "execution_count": null,
   "metadata": {},
   "outputs": [],
   "source": [
    "meta_data[1][0]"
   ]
  },
  {
   "cell_type": "code",
   "execution_count": null,
   "metadata": {},
   "outputs": [],
   "source": []
  }
 ],
 "metadata": {
  "kernelspec": {
   "display_name": "Python 3",
   "language": "python",
   "name": "python3"
  },
  "language_info": {
   "codemirror_mode": {
    "name": "ipython",
    "version": 3
   },
   "file_extension": ".py",
   "mimetype": "text/x-python",
   "name": "python",
   "nbconvert_exporter": "python",
   "pygments_lexer": "ipython3",
   "version": "3.9.5"
  }
 },
 "nbformat": 4,
 "nbformat_minor": 4
}

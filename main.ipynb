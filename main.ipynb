{
 "cells": [
  {
   "cell_type": "code",
   "execution_count": 26,
   "metadata": {},
   "outputs": [],
   "source": [
    "# import python built-in libraries\n",
    "import os.path\n",
    "\n",
    "# import external libraries\n",
    "import netCDF4 \n",
    "import pandas as pd\n",
    "import numpy as np\n",
    "import yaml\n",
    "from datetime import datetime, timedelta\n",
    "from cftime import num2date, date2num\n",
    "\n",
    "# import user libraries\n",
    "from utils import description_module\n",
    "from utils import conversion_module\n",
    "\n",
    "# load configuration file\n",
    "with open('config.yml') as f:\n",
    "    cfg = yaml.load(f, Loader = yaml.FullLoader)"
   ]
  },
  {
   "cell_type": "code",
   "execution_count": 18,
   "metadata": {},
   "outputs": [],
   "source": [
    "\n",
    "\n",
    "dataPath = \"./data/\"\n",
    "# dataPath = \"./raw_data/Maebong_and_Moonam/\"\n",
    " \n",
    "files = os.listdir(dataPath)\n",
    "\n",
    "datasetDict = {}\n",
    "for idx,nc_type_file in enumerate(files):\n",
    "    if nc_type_file.split(\".\")[-1] == 'nc':\n",
    "        datasetDict[nc_type_file] = netCDF4.Dataset(dataPath+nc_type_file,mode=\"r\")"
   ]
  },
  {
   "cell_type": "code",
   "execution_count": null,
   "metadata": {
    "scrolled": true
   },
   "outputs": [],
   "source": []
  },
  {
   "cell_type": "code",
   "execution_count": 25,
   "metadata": {},
   "outputs": [
    {
     "data": {
      "text/plain": [
       "dict_keys(['longitude', 'latitude', 'time', 'u100', 'v100'])"
      ]
     },
     "execution_count": 25,
     "metadata": {},
     "output_type": "execute_result"
    }
   ],
   "source": [
    "ncfile_name = '20210731_test_example_2.nc'\n",
    "output_dataset = datasetDict[ncfile_name]\n",
    "\n",
    "# 하단 데이터를 갖고 있습니다.\n",
    "output_dataset.variables.keys()\n",
    "\n",
    "#mdww : mean direction of wind waves\n",
    "#mpww : mean period of wind waves\n",
    "#mwd : mean wave direction\n",
    "#mwp : mean wave period\n",
    "#wmb : Model bathymetry\n",
    "#dwi : Ocean surface stress equivalent 10m neutral wind direction\n",
    "#swh : Significant height of combined wind waves and swell\n",
    "#shww : significant height of wind waves"
   ]
  },
  {
   "cell_type": "code",
   "execution_count": null,
   "metadata": {},
   "outputs": [],
   "source": [
    "# 차원이 다르게 받아들여지는 경우는 해결해야 함...;"
   ]
  },
  {
   "cell_type": "code",
   "execution_count": 20,
   "metadata": {},
   "outputs": [],
   "source": [
    "a, b = conversion_module.netCDF4_to_CSV(output_dataset)"
   ]
  },
  {
   "cell_type": "code",
   "execution_count": 21,
   "metadata": {},
   "outputs": [
    {
     "data": {
      "text/plain": [
       "(26304, 1, 1)"
      ]
     },
     "execution_count": 21,
     "metadata": {},
     "output_type": "execute_result"
    }
   ],
   "source": [
    "a['time'].shape"
   ]
  },
  {
   "cell_type": "code",
   "execution_count": 24,
   "metadata": {},
   "outputs": [
    {
     "data": {
      "text/plain": [
       "(26304, 1, 1)"
      ]
     },
     "execution_count": 24,
     "metadata": {},
     "output_type": "execute_result"
    }
   ],
   "source": [
    "a['v100'].shape"
   ]
  },
  {
   "cell_type": "code",
   "execution_count": 11,
   "metadata": {},
   "outputs": [
    {
     "data": {
      "text/plain": [
       "dict_keys(['time', 'u100', 'v100'])"
      ]
     },
     "execution_count": 11,
     "metadata": {},
     "output_type": "execute_result"
    }
   ],
   "source": [
    "a.keys()"
   ]
  },
  {
   "cell_type": "code",
   "execution_count": 6,
   "metadata": {},
   "outputs": [
    {
     "data": {
      "text/plain": [
       "({'time': array([[['2018-01-01 00:00:00']],\n",
       "  \n",
       "         [['2018-01-01 01:00:00']],\n",
       "  \n",
       "         [['2018-01-01 02:00:00']],\n",
       "  \n",
       "         ...,\n",
       "  \n",
       "         [['2021-07-26 19:00:00']],\n",
       "  \n",
       "         [['2021-07-26 20:00:00']],\n",
       "  \n",
       "         [['2021-07-26 21:00:00']]], dtype='<U19'),\n",
       "  'u100': array([[[[ 1.19920014e+00]],\n",
       "  \n",
       "          [[-3.27670000e+04]]],\n",
       "  \n",
       "  \n",
       "         [[[ 1.57312448e+00]],\n",
       "  \n",
       "          [[-3.27670000e+04]]],\n",
       "  \n",
       "  \n",
       "         [[[ 1.19995250e+00]],\n",
       "  \n",
       "          [[-3.27670000e+04]]],\n",
       "  \n",
       "  \n",
       "         ...,\n",
       "  \n",
       "  \n",
       "         [[[-3.27670000e+04]],\n",
       "  \n",
       "          [[-7.91341894e+00]]],\n",
       "  \n",
       "  \n",
       "         [[[-3.27670000e+04]],\n",
       "  \n",
       "          [[-8.04207299e+00]]],\n",
       "  \n",
       "  \n",
       "         [[[-3.27670000e+04]],\n",
       "  \n",
       "          [[-7.94276109e+00]]]]),\n",
       "  'v100': array([[[[-3.38774517e+00]],\n",
       "  \n",
       "          [[-3.27670000e+04]]],\n",
       "  \n",
       "  \n",
       "         [[[-3.32710575e+00]],\n",
       "  \n",
       "          [[-3.27670000e+04]]],\n",
       "  \n",
       "  \n",
       "         [[[-4.06308552e+00]],\n",
       "  \n",
       "          [[-3.27670000e+04]]],\n",
       "  \n",
       "  \n",
       "         ...,\n",
       "  \n",
       "  \n",
       "         [[[-3.27670000e+04]],\n",
       "  \n",
       "          [[-5.50983394e-01]]],\n",
       "  \n",
       "  \n",
       "         [[[-3.27670000e+04]],\n",
       "  \n",
       "          [[-4.91174654e-01]]],\n",
       "  \n",
       "  \n",
       "         [[[-3.27670000e+04]],\n",
       "  \n",
       "          [[-5.63443548e-01]]]])},\n",
       " {'latitude': array([34.24], dtype=float32),\n",
       "  'longitude': array([127.09], dtype=float32)})"
      ]
     },
     "execution_count": 6,
     "metadata": {},
     "output_type": "execute_result"
    }
   ],
   "source": [
    "a"
   ]
  },
  {
   "cell_type": "code",
   "execution_count": null,
   "metadata": {},
   "outputs": [],
   "source": [
    "# 하단에 저장되어 있습니다.\n",
    "datasetDict.keys()"
   ]
  },
  {
   "cell_type": "code",
   "execution_count": null,
   "metadata": {},
   "outputs": [],
   "source": [
    "masked_array_dtime = netCDF4.num2date(output_dataset['time'],output_dataset['time'].units)"
   ]
  },
  {
   "cell_type": "code",
   "execution_count": null,
   "metadata": {},
   "outputs": [],
   "source": [
    "len(masked_array_dtime)"
   ]
  },
  {
   "cell_type": "code",
   "execution_count": null,
   "metadata": {},
   "outputs": [],
   "source": [
    "len(output_dataset['time'])"
   ]
  },
  {
   "cell_type": "code",
   "execution_count": null,
   "metadata": {
    "scrolled": true
   },
   "outputs": [],
   "source": [
    "output_dataset['time'].get_dims()"
   ]
  },
  {
   "cell_type": "code",
   "execution_count": null,
   "metadata": {},
   "outputs": [],
   "source": [
    "a = list(output_dataset['time'].get_dims()[0])"
   ]
  },
  {
   "cell_type": "code",
   "execution_count": null,
   "metadata": {},
   "outputs": [],
   "source": [
    "a"
   ]
  },
  {
   "cell_type": "code",
   "execution_count": null,
   "metadata": {},
   "outputs": [],
   "source": [
    "output_dataset['time']"
   ]
  },
  {
   "cell_type": "code",
   "execution_count": null,
   "metadata": {},
   "outputs": [],
   "source": [
    "output_dataset"
   ]
  },
  {
   "cell_type": "code",
   "execution_count": null,
   "metadata": {
    "scrolled": true
   },
   "outputs": [],
   "source": [
    "output_dataset['time']"
   ]
  },
  {
   "cell_type": "code",
   "execution_count": null,
   "metadata": {},
   "outputs": [],
   "source": [
    "output_dataset['longitude']\n",
    "\n",
    "output_dataset['time'].get_dims()[0].size"
   ]
  },
  {
   "cell_type": "code",
   "execution_count": null,
   "metadata": {},
   "outputs": [],
   "source": [
    "# t2m = output_dataset.variables\n",
    "time_dim, lat_dim, lon_dim = output_dataset['time'].get_dims()"
   ]
  },
  {
   "cell_type": "code",
   "execution_count": null,
   "metadata": {},
   "outputs": [],
   "source": [
    "output_dataset['u10'].get_dims()"
   ]
  },
  {
   "cell_type": "code",
   "execution_count": null,
   "metadata": {},
   "outputs": [],
   "source": [
    "# output_dataset.variables"
   ]
  },
  {
   "cell_type": "code",
   "execution_count": null,
   "metadata": {},
   "outputs": [],
   "source": [
    "output_dataset.variables['time']"
   ]
  },
  {
   "cell_type": "code",
   "execution_count": null,
   "metadata": {},
   "outputs": [],
   "source": [
    "output_dataset['time']"
   ]
  },
  {
   "cell_type": "code",
   "execution_count": null,
   "metadata": {},
   "outputs": [],
   "source": [
    "t2m"
   ]
  },
  {
   "cell_type": "code",
   "execution_count": null,
   "metadata": {},
   "outputs": [],
   "source": [
    "output_dataset.variables['expver']"
   ]
  },
  {
   "cell_type": "code",
   "execution_count": null,
   "metadata": {},
   "outputs": [],
   "source": [
    "timedim = output_dataset['time'].get_dims()[0].size\n",
    "\n",
    "time_var = output_dataset.variables[time_dim.name]\n",
    "times = num2date(time_var[:], time_var.units)\n"
   ]
  },
  {
   "cell_type": "code",
   "execution_count": null,
   "metadata": {},
   "outputs": [],
   "source": [
    "time_var = output_dataset.variables['time']\n",
    "times = num2date(time_var[:], time_var.units)\n"
   ]
  },
  {
   "cell_type": "code",
   "execution_count": null,
   "metadata": {},
   "outputs": [],
   "source": [
    "str(times[0])"
   ]
  },
  {
   "cell_type": "code",
   "execution_count": null,
   "metadata": {},
   "outputs": [],
   "source": [
    "time_var.units"
   ]
  },
  {
   "cell_type": "code",
   "execution_count": null,
   "metadata": {},
   "outputs": [],
   "source": [
    "meta_data"
   ]
  },
  {
   "cell_type": "code",
   "execution_count": null,
   "metadata": {},
   "outputs": [],
   "source": [
    "output_dataset = datasetDict['20210731_wando.nc']\n",
    "output_dataset.variables.keys()"
   ]
  },
  {
   "cell_type": "code",
   "execution_count": null,
   "metadata": {},
   "outputs": [],
   "source": [
    "target_dataset = '20201114_testdata.nc'\n",
    "output_dataset = datasetDict[target_dataset]\n",
    "\n",
    "output_dataset.variables.keys()"
   ]
  },
  {
   "cell_type": "code",
   "execution_count": null,
   "metadata": {},
   "outputs": [],
   "source": []
  },
  {
   "cell_type": "code",
   "execution_count": null,
   "metadata": {},
   "outputs": [],
   "source": [
    "len(output_list)"
   ]
  },
  {
   "cell_type": "code",
   "execution_count": null,
   "metadata": {},
   "outputs": [],
   "source": [
    "output_dataset['time']"
   ]
  },
  {
   "cell_type": "code",
   "execution_count": null,
   "metadata": {},
   "outputs": [],
   "source": [
    "times = [str(i) for i in netCDF4.num2date(output_dataset['time'],output_dataset['time'].units)]\n",
    "\n",
    "times = np.array(times)\n",
    "\n",
    "len(times)"
   ]
  },
  {
   "cell_type": "code",
   "execution_count": null,
   "metadata": {},
   "outputs": [],
   "source": [
    "times"
   ]
  },
  {
   "cell_type": "code",
   "execution_count": null,
   "metadata": {},
   "outputs": [],
   "source": [
    "times =  times.reshape(len(times),1)\n",
    "aims = []\n",
    "aims.append(times)\n",
    "\n",
    "for i in output_list[1:]:\n",
    "    aims.append(i[:,0,0].reshape(len(i[:,0,0]),1))"
   ]
  },
  {
   "cell_type": "code",
   "execution_count": null,
   "metadata": {
    "scrolled": true
   },
   "outputs": [],
   "source": [
    "output_df = pd.DataFrame(np.concatenate(aims,axis=1), columns =column_name)\n",
    "\n",
    "# output_df = pd.DataFrame(np.concatenate(output_list,axis=1).reshape(17520,5),columns=column_name)\n",
    "output_df.head()"
   ]
  },
  {
   "cell_type": "code",
   "execution_count": null,
   "metadata": {},
   "outputs": [],
   "source": [
    "from metpy.calc import wind_speed, wind_direction\n",
    "from metpy.units import units\n",
    "\n",
    "def recordFunction(record):\n",
    "    u = float(record['u10']) * units.meter / units.second\n",
    "    v = float(record['v10']) * units.meter / units.second\n",
    "    return [wind_direction(u,v), wind_speed(u,v)]"
   ]
  },
  {
   "cell_type": "code",
   "execution_count": null,
   "metadata": {},
   "outputs": [],
   "source": [
    "listofTwo = output_df.apply(recordFunction, axis=1)\n",
    "\n",
    "# type(listofTwo.tolist()[0][0])\n",
    "\n",
    "# listofTwo.tolist()[0][0].to_compact\n",
    "\n",
    "a = pd.DataFrame(listofTwo.tolist(),columns =['direction','wind_speed'])\n",
    "\n",
    "column_name.append('wind_direction')\n",
    "column_name.append('wind_speed')\n",
    "column_name"
   ]
  },
  {
   "cell_type": "code",
   "execution_count": null,
   "metadata": {},
   "outputs": [],
   "source": [
    "output_df1 = pd.DataFrame(np.concatenate([output_df,a],axis=1),columns = column_name)\n",
    "\n",
    "file_name = str(meta_data[0][0])+\"(lat) \"+str(meta_data[1][0])+\"(lon)1 located data\"+'.csv'\n",
    "output_df1.to_csv(file_name,index=True, header=True)"
   ]
  },
  {
   "cell_type": "code",
   "execution_count": null,
   "metadata": {},
   "outputs": [],
   "source": [
    "file_name"
   ]
  },
  {
   "cell_type": "code",
   "execution_count": null,
   "metadata": {},
   "outputs": [],
   "source": [
    " a = pd.DataFrame(listofTwo.tolist(),columns =['direction','wind_speed'])"
   ]
  },
  {
   "cell_type": "code",
   "execution_count": null,
   "metadata": {},
   "outputs": [],
   "source": [
    "file_name = str(meta_data[0][0])+\"(lat) \"+str(meta_data[1][0])+\"(lon)1 located data\"+'.csv'\n",
    "# output_df.to_csv(file_name,index=True, header=True)"
   ]
  },
  {
   "cell_type": "code",
   "execution_count": null,
   "metadata": {},
   "outputs": [],
   "source": [
    "output_df1.to_csv(file_name,index=True, header=True)"
   ]
  },
  {
   "cell_type": "code",
   "execution_count": null,
   "metadata": {},
   "outputs": [],
   "source": [
    "pd.concat([output_df,a],axis=1).to_csv(file_name,index=True, header=True)"
   ]
  },
  {
   "cell_type": "code",
   "execution_count": null,
   "metadata": {},
   "outputs": [],
   "source": [
    "output_df.shape"
   ]
  },
  {
   "cell_type": "code",
   "execution_count": null,
   "metadata": {
    "scrolled": true
   },
   "outputs": [],
   "source": [
    "output_dataset['time'].units"
   ]
  },
  {
   "cell_type": "code",
   "execution_count": null,
   "metadata": {},
   "outputs": [],
   "source": [
    "meta_data[0][0]"
   ]
  },
  {
   "cell_type": "code",
   "execution_count": null,
   "metadata": {},
   "outputs": [],
   "source": [
    "meta_data[1][0]"
   ]
  },
  {
   "cell_type": "code",
   "execution_count": null,
   "metadata": {},
   "outputs": [],
   "source": []
  }
 ],
 "metadata": {
  "kernelspec": {
   "display_name": "Python 3 (ipykernel)",
   "language": "python",
   "name": "python3"
  },
  "language_info": {
   "codemirror_mode": {
    "name": "ipython",
    "version": 3
   },
   "file_extension": ".py",
   "mimetype": "text/x-python",
   "name": "python",
   "nbconvert_exporter": "python",
   "pygments_lexer": "ipython3",
   "version": "3.10.4"
  }
 },
 "nbformat": 4,
 "nbformat_minor": 4
}

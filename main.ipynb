{
 "cells": [
  {
   "cell_type": "code",
   "execution_count": 1,
   "metadata": {},
   "outputs": [],
   "source": [
    "# import python built-in libraries\n",
    "import os.path\n",
    "\n",
    "# import external libraries\n",
    "import netCDF4 \n",
    "import pandas as pd\n",
    "import numpy as np\n",
    "import yaml\n",
    "from datetime import datetime, timedelta\n",
    "from cftime import num2date, date2num\n",
    "\n",
    "# import user libraries\n",
    "from utils import description_module\n",
    "from utils import conversion_module\n",
    "\n",
    "# load configuration file\n",
    "with open('config.yml') as f:\n",
    "    cfg = yaml.load(f, Loader = yaml.FullLoader)"
   ]
  },
  {
   "cell_type": "code",
   "execution_count": 2,
   "metadata": {},
   "outputs": [],
   "source": [
    "\n",
    "dataPath = \"./data/\"\n",
    "# dataPath = \"./raw_data/Maebong_and_Moonam/\"\n",
    " \n",
    "files = os.listdir(dataPath)\n",
    "\n",
    "datasetDict = {}\n",
    "for idx,nc_type_file in enumerate(files):\n",
    "    if nc_type_file.split(\".\")[-1] == 'nc':\n",
    "        datasetDict[nc_type_file] = netCDF4.Dataset(dataPath+nc_type_file,mode=\"r\")"
   ]
  },
  {
   "cell_type": "code",
   "execution_count": 3,
   "metadata": {},
   "outputs": [],
   "source": [
    "for fname, netCDF4 in list(datasetDict.items()):\n",
    "\n",
    "    info_dict, meta_dict, desc_dict = conversion_module.netCDF4_to_CSV(netCDF4)\n",
    "    data_df = conversion_module.dict_to_dataframe(info_dict, meta_dict)\n",
    "    data_df = conversion_module.measure_wind_info(data_df)\n",
    "\n",
    "    tmp_fname = fname.split('.')[-2] + '(located_in_' + str(meta_dict['latitude'][0])+\"lat \"+str(meta_dict['longitude'][0])+\"lon\"+').csv'\n",
    "    conversion_module.save_df(data_df, cfg['project_title'], tmp_fname)\n",
    "\n",
    "    del info_dict\n",
    "    del meta_dict"
   ]
  },
  {
   "cell_type": "code",
   "execution_count": null,
   "metadata": {},
   "outputs": [],
   "source": [
    "# ncfile_name = '20210731_test_example_2.nc'\n",
    "ncfile_name = '2023_former.nc'\n",
    "output_dataset = datasetDict[ncfile_name]\n",
    "\n",
    "# 하단 데이터를 갖고 있습니다.\n",
    "output_dataset.variables.keys()\n",
    "\n",
    "#mdww : mean direction of wind waves\n",
    "#mpww : mean period of wind waves\n",
    "#mwd : mean wave direction\n",
    "#mwp : mean wave period\n",
    "#wmb : Model bathymetry\n",
    "#dwi : Ocean surface stress equivalent 10m neutral wind direction\n",
    "#swh : Significant height of combined wind waves and swell\n",
    "#shww : significant height of wind waves"
   ]
  },
  {
   "cell_type": "code",
   "execution_count": null,
   "metadata": {},
   "outputs": [],
   "source": [
    "info_dict, meta_dict, desc_dict = conversion_module.netCDF4_to_CSV(output_dataset)\n",
    "data_df = conversion_module.dict_to_dataframe(info_dict, meta_dict)\n",
    "data_df = conversion_module.measure_wind_info(data_df)\n",
    "\n",
    "fname = str(meta_dict['latitude'][0])+\"(lat) \"+str(meta_dict['longitude'][0])+\"(lon) located data\"+'.csv'\n",
    "conversion_module.save_df(data_df, cfg['project_title'], fname)\n",
    "\n",
    "del info_dict\n",
    "del meta_dict"
   ]
  },
  {
   "cell_type": "code",
   "execution_count": null,
   "metadata": {
    "scrolled": false
   },
   "outputs": [],
   "source": [
    "data_df"
   ]
  },
  {
   "cell_type": "code",
   "execution_count": 4,
   "metadata": {},
   "outputs": [
    {
     "data": {
      "text/plain": [
       "{'latitude': 'latitude',\n",
       " 'longitude': 'longitude',\n",
       " 'time': 'time',\n",
       " 'u100': '100 metre U wind component',\n",
       " 'v100': '100 metre V wind component',\n",
       " 'u10': '10 metre U wind component',\n",
       " 'v10': '10 metre V wind component',\n",
       " 'mdww': 'Mean direction of wind waves',\n",
       " 'mpww': 'Mean period of wind waves',\n",
       " 'mwd': 'Mean wave direction',\n",
       " 'p140122': 'Mean wave direction of first swell partition',\n",
       " 'mwp': 'Mean wave period',\n",
       " 'mp1': 'Mean wave period based on first moment',\n",
       " 'wmb': 'Model bathymetry',\n",
       " 'dwi': '10 metre wind direction',\n",
       " 'pp1d': 'Peak wave period',\n",
       " 'swh': 'Significant height of combined wind waves and swell',\n",
       " 'shww': 'Significant height of wind waves',\n",
       " 'p140121': 'Significant wave height of first swell partition',\n",
       " 'p140124': 'Significant wave height of second swell partition',\n",
       " 'p140127': 'Significant wave height of third swell partition'}"
      ]
     },
     "execution_count": 4,
     "metadata": {},
     "output_type": "execute_result"
    }
   ],
   "source": [
    "desc_dict"
   ]
  },
  {
   "cell_type": "code",
   "execution_count": null,
   "metadata": {},
   "outputs": [],
   "source": [
    "from metpy.calc import wind_speed, wind_direction #it \n",
    "from metpy.units import units\n",
    "\n",
    "u = float(-2.83) * units.meter / units.second\n",
    "v = float(-2.83) * units.meter / units.second"
   ]
  },
  {
   "cell_type": "code",
   "execution_count": null,
   "metadata": {},
   "outputs": [],
   "source": [
    "value(wind_direction(u,v))"
   ]
  },
  {
   "cell_type": "code",
   "execution_count": null,
   "metadata": {},
   "outputs": [],
   "source": [
    "output_dataset['v100'][0]"
   ]
  },
  {
   "cell_type": "code",
   "execution_count": null,
   "metadata": {},
   "outputs": [],
   "source": []
  }
 ],
 "metadata": {
  "kernelspec": {
   "display_name": "Python 3 (ipykernel)",
   "language": "python",
   "name": "python3"
  },
  "language_info": {
   "codemirror_mode": {
    "name": "ipython",
    "version": 3
   },
   "file_extension": ".py",
   "mimetype": "text/x-python",
   "name": "python",
   "nbconvert_exporter": "python",
   "pygments_lexer": "ipython3",
   "version": "3.10.4"
  }
 },
 "nbformat": 4,
 "nbformat_minor": 4
}
